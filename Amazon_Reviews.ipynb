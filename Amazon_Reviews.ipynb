{
 "cells": [
  {
   "cell_type": "code",
   "execution_count": 2,
   "metadata": {},
   "outputs": [],
   "source": [
    "reset -fs"
   ]
  },
  {
   "cell_type": "code",
   "execution_count": 3,
   "metadata": {},
   "outputs": [],
   "source": [
    "import gzip\n",
    "import itertools\n",
    "import string\n",
    "import wordcloud\n",
    "import numpy as np\n",
    "import pandas as pd\n",
    "import datetime as dt\n",
    "import matplotlib.pyplot as plt\n",
    "import pylab as pl\n",
    "import time\n",
    "from collections import Counter\n",
    "from sklearn import svm\n",
    "from sklearn.pipeline import Pipeline, make_pipeline\n",
    "from sklearn.linear_model import LogisticRegression\n",
    "from sklearn.feature_extraction.text import CountVectorizer, TfidfVectorizer\n",
    "from sklearn.decomposition import NMF, LatentDirichletAllocation\n",
    "from sklearn.naive_bayes import MultinomialNB\n",
    "from sklearn.model_selection import train_test_split, cross_val_score\n",
    "from sklearn.model_selection import GridSearchCV\n",
    "from sklearn.metrics import accuracy_score, confusion_matrix, f1_score\n",
    "\n",
    "from nltk import word_tokenize\n",
    "from nltk.corpus import stopwords\n",
    "from nltk.stem.wordnet import WordNetLemmatizer\n",
    "\n",
    "%matplotlib inline"
   ]
  },
  {
   "cell_type": "markdown",
   "metadata": {},
   "source": [
    "---\n",
    "# Part I EDA and Preprocessing\n",
    "---\n",
    "### `Download and Unzip Reviews into Pandas DataFrame`"
   ]
  },
  {
   "cell_type": "code",
   "execution_count": 4,
   "metadata": {},
   "outputs": [],
   "source": [
    "import sqlite3\n",
    "import pandas as pd\n",
    "\n",
    "cnx = sqlite3.connect('/home/varuni/Documents/ML-LabProj/amazon-fine-food-reviews/database.sqlite')\n",
    "\n",
    "review = pd.read_sql_query(\"SELECT * FROM Reviews\", cnx)"
   ]
  },
  {
   "cell_type": "markdown",
   "metadata": {},
   "source": [
    "* Convert compressed file of data into Pandas DataFrame"
   ]
  },
  {
   "cell_type": "code",
   "execution_count": 5,
   "metadata": {},
   "outputs": [
    {
     "name": "stdout",
     "output_type": "stream",
     "text": [
      "<class 'pandas.core.frame.DataFrame'>\n"
     ]
    }
   ],
   "source": [
    "print(type(review))"
   ]
  },
  {
   "cell_type": "code",
   "execution_count": 6,
   "metadata": {},
   "outputs": [
    {
     "name": "stdout",
     "output_type": "stream",
     "text": [
      "Dataset size: 568,454 words\n"
     ]
    }
   ],
   "source": [
    "print('Dataset size: {:,} words'.format(len(review)))"
   ]
  },
  {
   "cell_type": "code",
   "execution_count": 7,
   "metadata": {},
   "outputs": [
    {
     "name": "stdout",
     "output_type": "stream",
     "text": [
      "['Id', 'ProductId', 'UserId', 'ProfileName', 'HelpfulnessNumerator', 'HelpfulnessDenominator', 'Score', 'Time', 'Summary', 'Text']\n"
     ]
    }
   ],
   "source": [
    "review[:3]\n",
    "print(list(review))"
   ]
  },
  {
   "cell_type": "markdown",
   "metadata": {},
   "source": [
    "* **Reformat** $\\underline{datetime}$ from raw form."
   ]
  },
  {
   "cell_type": "code",
   "execution_count": 8,
   "metadata": {},
   "outputs": [
    {
     "name": "stdout",
     "output_type": "stream",
     "text": [
      "[[1, 1], [0, 0], [1, 1]]\n"
     ]
    }
   ],
   "source": [
    "helpful =[]\n",
    "for i in range(len(review)):\n",
    "    helpful.append([review.loc[i,'HelpfulnessNumerator'],review.loc[i,'HelpfulnessDenominator']])\n",
    "se = pd.Series(helpful)\n",
    "review['helpful'] = se.values\n",
    "\n",
    "\n",
    "print(helpful[:3])\n",
    "\n"
   ]
  },
  {
   "cell_type": "code",
   "execution_count": 9,
   "metadata": {},
   "outputs": [
    {
     "name": "stdout",
     "output_type": "stream",
     "text": [
      "Counter({1: 486417, 0: 82037})\n"
     ]
    }
   ],
   "source": [
    "smt = []\n",
    "for i in range (len(review)):\n",
    "    if(review['Score'][i] > 2.5):\n",
    "        smt.append(1) \n",
    "    else:\n",
    "        smt.append(0)\n",
    "senti = pd.Series(smt)\n",
    "review['pos_neg'] = senti.values\n",
    "count = Counter(smt)\n",
    "print(count)\n",
    "review = review[['ProductId','Summary','Text','Score', 'UserId', 'ProfileName','helpful','Time','pos_neg']]\n"
   ]
  },
  {
   "cell_type": "markdown",
   "metadata": {},
   "source": [
    "* **Rearrange** the left-to-right by relevance"
   ]
  },
  {
   "cell_type": "code",
   "execution_count": 10,
   "metadata": {
    "scrolled": true
   },
   "outputs": [
    {
     "data": {
      "text/html": [
       "<div>\n",
       "<style scoped>\n",
       "    .dataframe tbody tr th:only-of-type {\n",
       "        vertical-align: middle;\n",
       "    }\n",
       "\n",
       "    .dataframe tbody tr th {\n",
       "        vertical-align: top;\n",
       "    }\n",
       "\n",
       "    .dataframe thead th {\n",
       "        text-align: right;\n",
       "    }\n",
       "</style>\n",
       "<table border=\"1\" class=\"dataframe\">\n",
       "  <thead>\n",
       "    <tr style=\"text-align: right;\">\n",
       "      <th></th>\n",
       "      <th>ProductId</th>\n",
       "      <th>Summary</th>\n",
       "      <th>Text</th>\n",
       "      <th>Score</th>\n",
       "      <th>UserId</th>\n",
       "      <th>ProfileName</th>\n",
       "      <th>helpful</th>\n",
       "      <th>Time</th>\n",
       "      <th>pos_neg</th>\n",
       "    </tr>\n",
       "  </thead>\n",
       "  <tbody>\n",
       "    <tr>\n",
       "      <th>0</th>\n",
       "      <td>B001E4KFG0</td>\n",
       "      <td>Good Quality Dog Food</td>\n",
       "      <td>I have bought several of the Vitality canned d...</td>\n",
       "      <td>5</td>\n",
       "      <td>A3SGXH7AUHU8GW</td>\n",
       "      <td>delmartian</td>\n",
       "      <td>[1, 1]</td>\n",
       "      <td>1303862400</td>\n",
       "      <td>1</td>\n",
       "    </tr>\n",
       "    <tr>\n",
       "      <th>1</th>\n",
       "      <td>B00813GRG4</td>\n",
       "      <td>Not as Advertised</td>\n",
       "      <td>Product arrived labeled as Jumbo Salted Peanut...</td>\n",
       "      <td>1</td>\n",
       "      <td>A1D87F6ZCVE5NK</td>\n",
       "      <td>dll pa</td>\n",
       "      <td>[0, 0]</td>\n",
       "      <td>1346976000</td>\n",
       "      <td>0</td>\n",
       "    </tr>\n",
       "    <tr>\n",
       "      <th>2</th>\n",
       "      <td>B000LQOCH0</td>\n",
       "      <td>\"Delight\" says it all</td>\n",
       "      <td>This is a confection that has been around a fe...</td>\n",
       "      <td>4</td>\n",
       "      <td>ABXLMWJIXXAIN</td>\n",
       "      <td>Natalia Corres \"Natalia Corres\"</td>\n",
       "      <td>[1, 1]</td>\n",
       "      <td>1219017600</td>\n",
       "      <td>1</td>\n",
       "    </tr>\n",
       "  </tbody>\n",
       "</table>\n",
       "</div>"
      ],
      "text/plain": [
       "    ProductId                Summary  \\\n",
       "0  B001E4KFG0  Good Quality Dog Food   \n",
       "1  B00813GRG4      Not as Advertised   \n",
       "2  B000LQOCH0  \"Delight\" says it all   \n",
       "\n",
       "                                                Text  Score          UserId  \\\n",
       "0  I have bought several of the Vitality canned d...      5  A3SGXH7AUHU8GW   \n",
       "1  Product arrived labeled as Jumbo Salted Peanut...      1  A1D87F6ZCVE5NK   \n",
       "2  This is a confection that has been around a fe...      4   ABXLMWJIXXAIN   \n",
       "\n",
       "                       ProfileName helpful        Time  pos_neg  \n",
       "0                       delmartian  [1, 1]  1303862400        1  \n",
       "1                           dll pa  [0, 0]  1346976000        0  \n",
       "2  Natalia Corres \"Natalia Corres\"  [1, 1]  1219017600        1  "
      ]
     },
     "execution_count": 10,
     "metadata": {},
     "output_type": "execute_result"
    }
   ],
   "source": [
    "review.head(3)\n"
   ]
  },
  {
   "cell_type": "code",
   "execution_count": 11,
   "metadata": {},
   "outputs": [
    {
     "data": {
      "text/html": [
       "<div>\n",
       "<style scoped>\n",
       "    .dataframe tbody tr th:only-of-type {\n",
       "        vertical-align: middle;\n",
       "    }\n",
       "\n",
       "    .dataframe tbody tr th {\n",
       "        vertical-align: top;\n",
       "    }\n",
       "\n",
       "    .dataframe thead th {\n",
       "        text-align: right;\n",
       "    }\n",
       "</style>\n",
       "<table border=\"1\" class=\"dataframe\">\n",
       "  <thead>\n",
       "    <tr style=\"text-align: right;\">\n",
       "      <th></th>\n",
       "      <th>ProductId</th>\n",
       "      <th>Summary</th>\n",
       "      <th>Text</th>\n",
       "      <th>Score</th>\n",
       "      <th>UserId</th>\n",
       "      <th>ProfileName</th>\n",
       "      <th>helpful</th>\n",
       "      <th>Time</th>\n",
       "      <th>pos_neg</th>\n",
       "    </tr>\n",
       "  </thead>\n",
       "  <tbody>\n",
       "    <tr>\n",
       "      <th>568451</th>\n",
       "      <td>B004I613EE</td>\n",
       "      <td>Perfect for our maltipoo</td>\n",
       "      <td>These stars are small, so you can give 10-15 o...</td>\n",
       "      <td>5</td>\n",
       "      <td>A121AA1GQV751Z</td>\n",
       "      <td>pksd \"pk_007\"</td>\n",
       "      <td>[2, 2]</td>\n",
       "      <td>1329782400</td>\n",
       "      <td>1</td>\n",
       "    </tr>\n",
       "    <tr>\n",
       "      <th>568452</th>\n",
       "      <td>B004I613EE</td>\n",
       "      <td>Favorite Training and reward treat</td>\n",
       "      <td>These are the BEST treats for training and rew...</td>\n",
       "      <td>5</td>\n",
       "      <td>A3IBEVCTXKNOH</td>\n",
       "      <td>Kathy A. Welch \"katwel\"</td>\n",
       "      <td>[1, 1]</td>\n",
       "      <td>1331596800</td>\n",
       "      <td>1</td>\n",
       "    </tr>\n",
       "    <tr>\n",
       "      <th>568453</th>\n",
       "      <td>B001LR2CU2</td>\n",
       "      <td>Great Honey</td>\n",
       "      <td>I am very satisfied ,product is as advertised,...</td>\n",
       "      <td>5</td>\n",
       "      <td>A3LGQPJCZVL9UC</td>\n",
       "      <td>srfell17</td>\n",
       "      <td>[0, 0]</td>\n",
       "      <td>1338422400</td>\n",
       "      <td>1</td>\n",
       "    </tr>\n",
       "  </tbody>\n",
       "</table>\n",
       "</div>"
      ],
      "text/plain": [
       "         ProductId                             Summary  \\\n",
       "568451  B004I613EE            Perfect for our maltipoo   \n",
       "568452  B004I613EE  Favorite Training and reward treat   \n",
       "568453  B001LR2CU2                         Great Honey   \n",
       "\n",
       "                                                     Text  Score  \\\n",
       "568451  These stars are small, so you can give 10-15 o...      5   \n",
       "568452  These are the BEST treats for training and rew...      5   \n",
       "568453  I am very satisfied ,product is as advertised,...      5   \n",
       "\n",
       "                UserId              ProfileName helpful        Time  pos_neg  \n",
       "568451  A121AA1GQV751Z            pksd \"pk_007\"  [2, 2]  1329782400        1  \n",
       "568452   A3IBEVCTXKNOH  Kathy A. Welch \"katwel\"  [1, 1]  1331596800        1  \n",
       "568453  A3LGQPJCZVL9UC                 srfell17  [0, 0]  1338422400        1  "
      ]
     },
     "execution_count": 11,
     "metadata": {},
     "output_type": "execute_result"
    }
   ],
   "source": [
    "review.tail(3)"
   ]
  },
  {
   "cell_type": "markdown",
   "metadata": {},
   "source": [
    "\n",
    "## Number of Reviews by Unique Products [`ProductID`]\n"
   ]
  },
  {
   "cell_type": "code",
   "execution_count": 12,
   "metadata": {},
   "outputs": [
    {
     "name": "stdout",
     "output_type": "stream",
     "text": [
      "Number of Unique Products in the Sports & Outdoors Category = 74258\n"
     ]
    }
   ],
   "source": [
    "products = review['Score'].groupby(review['ProductId']).count()\n",
    "print(\"Number of Unique Products in the Sports & Outdoors Category = {}\".format(products.count()))\n",
    "setprod = products.count()"
   ]
  },
  {
   "cell_type": "markdown",
   "metadata": {},
   "source": [
    "**Top 20 Reviewed Products**"
   ]
  },
  {
   "cell_type": "code",
   "execution_count": 13,
   "metadata": {},
   "outputs": [
    {
     "name": "stdout",
     "output_type": "stream",
     "text": [
      "Top 20 Reviewed Products:\n",
      "\n",
      "ProductId\n",
      "B007JFMH8M    913\n",
      "B002QWP89S    632\n",
      "B002QWP8H0    632\n",
      "B0026RQTGE    632\n",
      "B002QWHJOU    632\n",
      "B003B3OOPA    623\n",
      "B001EO5Q64    567\n",
      "B0013NUGDE    564\n",
      "B007M83302    564\n",
      "B007M832YY    564\n",
      "B000VK8AVK    564\n",
      "B0026KPDG8    564\n",
      "B0026KNQSA    564\n",
      "B001RVFERK    564\n",
      "B001RVFEP2    564\n",
      "B006HYLW32    564\n",
      "B000KV7ZGQ    556\n",
      "B000KV61FC    556\n",
      "B005K4Q4LK    542\n",
      "B000UBD88A    542\n",
      "Name: Score, dtype: int64\n",
      "\n",
      "Most Reviewed Product, B007JFMH8M - has 913 reviews.\n"
     ]
    }
   ],
   "source": [
    "sorted_products = products.sort_values(ascending=False)\n",
    "\n",
    "print(\"Top 20 Reviewed Products:\\n\")\n",
    "print(sorted_products[:20], end='\\n\\n')\n",
    "print('Most Reviewed Product, B007JFMH8M - has {} reviews.'.format(products.max()))"
   ]
  },
  {
   "cell_type": "markdown",
   "metadata": {},
   "source": [
    "**Bottom 20 Reviewed Products**"
   ]
  },
  {
   "cell_type": "code",
   "execution_count": 14,
   "metadata": {},
   "outputs": [
    {
     "name": "stdout",
     "output_type": "stream",
     "text": [
      "Bottom 20 Reviewed Products:\n",
      "\n",
      "ProductId\n",
      "B0042VELV2    1\n",
      "B0042UA47I    1\n",
      "B0042U90LO    1\n",
      "B0042U5W8E    1\n",
      "B0042TFZPA    1\n",
      "B00132SVIM    1\n",
      "B0042TFKSC    1\n",
      "B0012ZBKAQ    1\n",
      "B0012ZHEZQ    1\n",
      "B0042TA97Y    1\n",
      "B0042RQ2WM    1\n",
      "B0012ZKQ1K    1\n",
      "B0042RPDJK    1\n",
      "B0012ZS77A    1\n",
      "B0042RO4JK    1\n",
      "B0012ZTVKM    1\n",
      "B0042RMG3Q    1\n",
      "B001326V4S    1\n",
      "B0042RKTG2    1\n",
      "B009WVB40S    1\n",
      "Name: Score, dtype: int64\n",
      "\n",
      "Least Reviewed Product (Sorted), B0042VELV2- has 1 reviews.\n"
     ]
    }
   ],
   "source": [
    "print(\"Bottom 20 Reviewed Products:\\n\")\n",
    "print(sorted_products[setprod-20:], end='\\n\\n')\n",
    "print('Least Reviewed Product (Sorted), B0042VELV2- has {} reviews.'.format(products.min()))"
   ]
  },
  {
   "cell_type": "code",
   "execution_count": 15,
   "metadata": {},
   "outputs": [
    {
     "data": {
      "text/plain": [
       "0    1\n",
       "dtype: int64"
      ]
     },
     "execution_count": 15,
     "metadata": {},
     "output_type": "execute_result"
    }
   ],
   "source": [
    "products.mode()"
   ]
  },
  {
   "cell_type": "markdown",
   "metadata": {},
   "source": [
    "---\n",
    "## Preprocessing:\n",
    "### `Remove punctuations, stopwords, and lemmatize`"
   ]
  },
  {
   "cell_type": "code",
   "execution_count": 16,
   "metadata": {},
   "outputs": [
    {
     "data": {
      "text/plain": [
       "0     I have bought several of the Vitality canned d...\n",
       "1     Product arrived labeled as Jumbo Salted Peanut...\n",
       "2     This is a confection that has been around a fe...\n",
       "3     If you are looking for the secret ingredient i...\n",
       "4     Great taffy at a great price.  There was a wid...\n",
       "5     I got a wild hair for taffy and ordered this f...\n",
       "6     This saltwater taffy had great flavors and was...\n",
       "7     This taffy is so good.  It is very soft and ch...\n",
       "8     Right now I'm mostly just sprouting this so my...\n",
       "9     This is a very healthy dog food. Good for thei...\n",
       "10    I don't know if it's the cactus or the tequila...\n",
       "Name: Text, dtype: object"
      ]
     },
     "execution_count": 16,
     "metadata": {},
     "output_type": "execute_result"
    }
   ],
   "source": [
    "review['Text'][:11]"
   ]
  },
  {
   "cell_type": "code",
   "execution_count": 17,
   "metadata": {},
   "outputs": [],
   "source": [
    "reviews = review['Text']"
   ]
  },
  {
   "cell_type": "code",
   "execution_count": 18,
   "metadata": {},
   "outputs": [
    {
     "data": {
      "text/plain": [
       "568454"
      ]
     },
     "execution_count": 18,
     "metadata": {},
     "output_type": "execute_result"
    }
   ],
   "source": [
    "reviews.count()"
   ]
  },
  {
   "cell_type": "code",
   "execution_count": 19,
   "metadata": {},
   "outputs": [],
   "source": [
    "stops = stopwords.words('english')"
   ]
  },
  {
   "cell_type": "code",
   "execution_count": 20,
   "metadata": {},
   "outputs": [],
   "source": [
    "def tokenize(text):\n",
    "    tokenized = word_tokenize(text)\n",
    "    no_punc = []\n",
    "    for review in tokenized:\n",
    "        line = \"\".join(char for char in review if char not in string.punctuation)\n",
    "        no_punc.append(line)\n",
    "    tokens = lemmatize(no_punc)\n",
    "    return tokens\n",
    "\n",
    "\n",
    "def lemmatize(tokens):\n",
    "    lmtzr = WordNetLemmatizer()\n",
    "    lemma = [lmtzr.lemmatize(t) for t in tokens]\n",
    "    return lemma\n"
   ]
  },
  {
   "cell_type": "code",
   "execution_count": 21,
   "metadata": {},
   "outputs": [],
   "source": [
    "reviews = reviews.apply(lambda x: tokenize(x))"
   ]
  },
  {
   "cell_type": "code",
   "execution_count": 22,
   "metadata": {},
   "outputs": [
    {
     "data": {
      "text/plain": [
       "0     [I, have, bought, several, of, the, Vitality, ...\n",
       "1     [Product, arrived, labeled, a, Jumbo, Salted, ...\n",
       "2     [This, is, a, confection, that, ha, been, arou...\n",
       "3     [If, you, are, looking, for, the, secret, ingr...\n",
       "4     [Great, taffy, at, a, great, price, , There, w...\n",
       "5     [I, got, a, wild, hair, for, taffy, and, order...\n",
       "6     [This, saltwater, taffy, had, great, flavor, a...\n",
       "7     [This, taffy, is, so, good, , It, is, very, so...\n",
       "8     [Right, now, I, m, mostly, just, sprouting, th...\n",
       "9     [This, is, a, very, healthy, dog, food, , Good...\n",
       "10    [I, do, nt, know, if, it, s, the, cactus, or, ...\n",
       "Name: Text, dtype: object"
      ]
     },
     "execution_count": 22,
     "metadata": {},
     "output_type": "execute_result"
    }
   ],
   "source": [
    "reviews[:11]\n",
    "pickle.dump(review,open('tokens.pkl','wb'))\n"
   ]
  },
  {
   "cell_type": "markdown",
   "metadata": {},
   "source": [
    "---\n",
    "# Part II Modeling\n",
    "---\n",
    "## Model data\n",
    "\n",
    "> **[ 1 ]** Classification / Sentiment Analysis ( Logistic Regression, MultinomialNB )\n",
    "\n",
    "> **[ 2 ]** Clustering / Topic Modeling ( NMF and Lda )"
   ]
  },
  {
   "cell_type": "markdown",
   "metadata": {},
   "source": [
    "# `Classification / Sentiment Analysis (LogReg, Mulitnomial)`"
   ]
  },
  {
   "cell_type": "code",
   "execution_count": 23,
   "metadata": {},
   "outputs": [
    {
     "ename": "AttributeError",
     "evalue": "'DataFrame' object has no attribute 'reviewText'",
     "output_type": "error",
     "traceback": [
      "\u001b[0;31m---------------------------------------------------------------------------\u001b[0m",
      "\u001b[0;31mAttributeError\u001b[0m                            Traceback (most recent call last)",
      "\u001b[0;32m<ipython-input-23-6cacef692bd8>\u001b[0m in \u001b[0;36m<module>\u001b[0;34m()\u001b[0m\n\u001b[1;32m      1\u001b[0m cloud = wordcloud.WordCloud(background_color='gray', max_font_size=60, \n\u001b[0;32m----> 2\u001b[0;31m                                 relative_scaling=1).generate(' '.join(review.reviewText))\n\u001b[0m",
      "\u001b[0;32m~/anaconda3/envs/mlearn/lib/python3.6/site-packages/pandas/core/generic.py\u001b[0m in \u001b[0;36m__getattr__\u001b[0;34m(self, name)\u001b[0m\n\u001b[1;32m   3612\u001b[0m             \u001b[0;32mif\u001b[0m \u001b[0mname\u001b[0m \u001b[0;32min\u001b[0m \u001b[0mself\u001b[0m\u001b[0;34m.\u001b[0m\u001b[0m_info_axis\u001b[0m\u001b[0;34m:\u001b[0m\u001b[0;34m\u001b[0m\u001b[0m\n\u001b[1;32m   3613\u001b[0m                 \u001b[0;32mreturn\u001b[0m \u001b[0mself\u001b[0m\u001b[0;34m[\u001b[0m\u001b[0mname\u001b[0m\u001b[0;34m]\u001b[0m\u001b[0;34m\u001b[0m\u001b[0m\n\u001b[0;32m-> 3614\u001b[0;31m             \u001b[0;32mreturn\u001b[0m \u001b[0mobject\u001b[0m\u001b[0;34m.\u001b[0m\u001b[0m__getattribute__\u001b[0m\u001b[0;34m(\u001b[0m\u001b[0mself\u001b[0m\u001b[0;34m,\u001b[0m \u001b[0mname\u001b[0m\u001b[0;34m)\u001b[0m\u001b[0;34m\u001b[0m\u001b[0m\n\u001b[0m\u001b[1;32m   3615\u001b[0m \u001b[0;34m\u001b[0m\u001b[0m\n\u001b[1;32m   3616\u001b[0m     \u001b[0;32mdef\u001b[0m \u001b[0m__setattr__\u001b[0m\u001b[0;34m(\u001b[0m\u001b[0mself\u001b[0m\u001b[0;34m,\u001b[0m \u001b[0mname\u001b[0m\u001b[0;34m,\u001b[0m \u001b[0mvalue\u001b[0m\u001b[0;34m)\u001b[0m\u001b[0;34m:\u001b[0m\u001b[0;34m\u001b[0m\u001b[0m\n",
      "\u001b[0;31mAttributeError\u001b[0m: 'DataFrame' object has no attribute 'reviewText'"
     ]
    }
   ],
   "source": [
    "cloud = wordcloud.WordCloud(background_color='gray', max_font_size=60, \n",
    "                                relative_scaling=1).generate(' '.join(review.reviewText))"
   ]
  },
  {
   "cell_type": "code",
   "execution_count": null,
   "metadata": {
    "scrolled": false
   },
   "outputs": [],
   "source": [
    "fig = plt.figure(figsize=(20, 10))\n",
    "plt.axis('off')\n",
    "plt.imshow(cloud);"
   ]
  },
  {
   "cell_type": "code",
   "execution_count": null,
   "metadata": {},
   "outputs": [],
   "source": [
    "review[:3]"
   ]
  },
  {
   "cell_type": "markdown",
   "metadata": {},
   "source": [
    "### Insert `pos_neg` column for Sentiment modeling\n",
    "\n",
    "         Negative reviews:      1-3 Stars  = 0\n",
    "         Positive reviews:      4-5 Stars  = 1\n",
    "\n",
    " "
   ]
  },
  {
   "cell_type": "code",
   "execution_count": null,
   "metadata": {},
   "outputs": [],
   "source": [
    "#review['pos_neg'] = [1 if x > 3 else 0 for x in review.overall]"
   ]
  },
  {
   "cell_type": "code",
   "execution_count": 24,
   "metadata": {},
   "outputs": [
    {
     "data": {
      "text/html": [
       "<div>\n",
       "<style scoped>\n",
       "    .dataframe tbody tr th:only-of-type {\n",
       "        vertical-align: middle;\n",
       "    }\n",
       "\n",
       "    .dataframe tbody tr th {\n",
       "        vertical-align: top;\n",
       "    }\n",
       "\n",
       "    .dataframe thead th {\n",
       "        text-align: right;\n",
       "    }\n",
       "</style>\n",
       "<table border=\"1\" class=\"dataframe\">\n",
       "  <thead>\n",
       "    <tr style=\"text-align: right;\">\n",
       "      <th></th>\n",
       "      <th>ProductId</th>\n",
       "      <th>Summary</th>\n",
       "      <th>Text</th>\n",
       "      <th>Score</th>\n",
       "      <th>UserId</th>\n",
       "      <th>ProfileName</th>\n",
       "      <th>helpful</th>\n",
       "      <th>Time</th>\n",
       "      <th>pos_neg</th>\n",
       "    </tr>\n",
       "  </thead>\n",
       "  <tbody>\n",
       "    <tr>\n",
       "      <th>0</th>\n",
       "      <td>B001E4KFG0</td>\n",
       "      <td>Good Quality Dog Food</td>\n",
       "      <td>I have bought several of the Vitality canned d...</td>\n",
       "      <td>5</td>\n",
       "      <td>A3SGXH7AUHU8GW</td>\n",
       "      <td>delmartian</td>\n",
       "      <td>[1, 1]</td>\n",
       "      <td>1303862400</td>\n",
       "      <td>1</td>\n",
       "    </tr>\n",
       "    <tr>\n",
       "      <th>1</th>\n",
       "      <td>B00813GRG4</td>\n",
       "      <td>Not as Advertised</td>\n",
       "      <td>Product arrived labeled as Jumbo Salted Peanut...</td>\n",
       "      <td>1</td>\n",
       "      <td>A1D87F6ZCVE5NK</td>\n",
       "      <td>dll pa</td>\n",
       "      <td>[0, 0]</td>\n",
       "      <td>1346976000</td>\n",
       "      <td>0</td>\n",
       "    </tr>\n",
       "    <tr>\n",
       "      <th>2</th>\n",
       "      <td>B000LQOCH0</td>\n",
       "      <td>\"Delight\" says it all</td>\n",
       "      <td>This is a confection that has been around a fe...</td>\n",
       "      <td>4</td>\n",
       "      <td>ABXLMWJIXXAIN</td>\n",
       "      <td>Natalia Corres \"Natalia Corres\"</td>\n",
       "      <td>[1, 1]</td>\n",
       "      <td>1219017600</td>\n",
       "      <td>1</td>\n",
       "    </tr>\n",
       "  </tbody>\n",
       "</table>\n",
       "</div>"
      ],
      "text/plain": [
       "    ProductId                Summary  \\\n",
       "0  B001E4KFG0  Good Quality Dog Food   \n",
       "1  B00813GRG4      Not as Advertised   \n",
       "2  B000LQOCH0  \"Delight\" says it all   \n",
       "\n",
       "                                                Text  Score          UserId  \\\n",
       "0  I have bought several of the Vitality canned d...      5  A3SGXH7AUHU8GW   \n",
       "1  Product arrived labeled as Jumbo Salted Peanut...      1  A1D87F6ZCVE5NK   \n",
       "2  This is a confection that has been around a fe...      4   ABXLMWJIXXAIN   \n",
       "\n",
       "                       ProfileName helpful        Time  pos_neg  \n",
       "0                       delmartian  [1, 1]  1303862400        1  \n",
       "1                           dll pa  [0, 0]  1346976000        0  \n",
       "2  Natalia Corres \"Natalia Corres\"  [1, 1]  1219017600        1  "
      ]
     },
     "execution_count": 24,
     "metadata": {},
     "output_type": "execute_result"
    }
   ],
   "source": [
    "review.head(3)"
   ]
  },
  {
   "cell_type": "code",
   "execution_count": 25,
   "metadata": {},
   "outputs": [],
   "source": [
    "review_text =review[\"Text\"]"
   ]
  },
  {
   "cell_type": "markdown",
   "metadata": {},
   "source": [
    "### Train/Test Split"
   ]
  },
  {
   "cell_type": "code",
   "execution_count": 26,
   "metadata": {},
   "outputs": [],
   "source": [
    "x_train, x_test, y_train, y_test = train_test_split(review.Text, review.pos_neg, random_state=0)"
   ]
  },
  {
   "cell_type": "code",
   "execution_count": 27,
   "metadata": {},
   "outputs": [
    {
     "name": "stdout",
     "output_type": "stream",
     "text": [
      "x_train shape: (426340,)\n",
      "y_train shape: (426340,)\n",
      "\n",
      "x_test shape: (142114,)\n",
      "y_test shape: (142114,)\n",
      "\n"
     ]
    }
   ],
   "source": [
    "print(\"x_train shape: {}\".format(x_train.shape), end='\\n')\n",
    "print(\"y_train shape: {}\".format(y_train.shape), end='\\n\\n')\n",
    "print(\"x_test shape: {}\".format(x_test.shape), end='\\n')\n",
    "print(\"y_test shape: {}\".format(y_test.shape), end='\\n\\n')"
   ]
  },
  {
   "cell_type": "markdown",
   "metadata": {},
   "source": [
    "---\n",
    "# `Logistic Regression`"
   ]
  },
  {
   "cell_type": "markdown",
   "metadata": {},
   "source": [
    "## `CountVectorizer`"
   ]
  },
  {
   "cell_type": "code",
   "execution_count": 28,
   "metadata": {},
   "outputs": [
    {
     "name": "stdout",
     "output_type": "stream",
     "text": [
      "X_train:\n",
      "<426340x36651 sparse matrix of type '<class 'numpy.int64'>'\n",
      "\twith 22909919 stored elements in Compressed Sparse Row format>\n"
     ]
    }
   ],
   "source": [
    "# Vectorize X_train\n",
    "vectorizer = CountVectorizer(min_df=5).fit(x_train)\n",
    "X_train = vectorizer.transform(x_train)\n",
    "print(\"X_train:\\n{}\".format(repr(X_train)))"
   ]
  },
  {
   "cell_type": "code",
   "execution_count": 29,
   "metadata": {},
   "outputs": [
    {
     "name": "stdout",
     "output_type": "stream",
     "text": [
      "Number of features: 36651\n"
     ]
    }
   ],
   "source": [
    "feature_names = vectorizer.get_feature_names()\n",
    "print(\"Number of features: {}\".format(len(feature_names)))"
   ]
  },
  {
   "cell_type": "markdown",
   "metadata": {},
   "source": [
    "---\n",
    "## Logistic Regression \n",
    "### on Training data"
   ]
  },
  {
   "cell_type": "code",
   "execution_count": 30,
   "metadata": {},
   "outputs": [],
   "source": [
    "scores = cross_val_score(LogisticRegression(), X_train, y_train, cv=5)"
   ]
  },
  {
   "cell_type": "code",
   "execution_count": 31,
   "metadata": {},
   "outputs": [
    {
     "name": "stdout",
     "output_type": "stream",
     "text": [
      "Mean cross-validation accuracy: 0.927\n"
     ]
    }
   ],
   "source": [
    "print(\"Mean cross-validation accuracy: {:.3f}\".format(np.mean(scores)))"
   ]
  },
  {
   "cell_type": "code",
   "execution_count": 32,
   "metadata": {},
   "outputs": [],
   "source": [
    "logreg = LogisticRegression(C=0.1).fit(X_train, y_train)\n",
    "\n",
    "X_test = vectorizer.transform(x_test)\n",
    "\n",
    "log_y_pred = logreg.predict(X_test)"
   ]
  },
  {
   "cell_type": "code",
   "execution_count": 33,
   "metadata": {},
   "outputs": [
    {
     "name": "stdout",
     "output_type": "stream",
     "text": [
      "Accuracy:   0.925\n"
     ]
    }
   ],
   "source": [
    "logreg_score = accuracy_score(y_test, log_y_pred)\n",
    "print(\"Accuracy:   {:.3f}\".format(logreg_score))"
   ]
  },
  {
   "cell_type": "code",
   "execution_count": 34,
   "metadata": {},
   "outputs": [
    {
     "name": "stdout",
     "output_type": "stream",
     "text": [
      "Training set score: 0.933\n",
      "Test set score: 0.925\n"
     ]
    }
   ],
   "source": [
    "print(\"Training set score: {:.3f}\".format(logreg.score(X_train, y_train)))\n",
    "print(\"Test set score: {:.3f}\".format(logreg.score(X_test, y_test))) "
   ]
  },
  {
   "cell_type": "code",
   "execution_count": 35,
   "metadata": {},
   "outputs": [
    {
     "name": "stdout",
     "output_type": "stream",
     "text": [
      "Confusion matrix:\n",
      "[[ 12838   7758]\n",
      " [  2885 118633]]\n",
      "\n",
      "---------------\n",
      "[['TN' 'FP']\n",
      " ['FN' 'TP']]\n"
     ]
    }
   ],
   "source": [
    "log_cfm = confusion_matrix(y_test, log_y_pred)\n",
    "print(\"Confusion matrix:\")\n",
    "print(log_cfm, end='\\n\\n')\n",
    "print('-'*15)\n",
    "print(np.array([['TN', 'FP'],[ 'FN' , 'TP']]))"
   ]
  },
  {
   "cell_type": "code",
   "execution_count": 36,
   "metadata": {},
   "outputs": [
    {
     "data": {
      "image/png": "[encoded data removed]",
      "text/plain": [
       "<Figure size 432x288 with 2 Axes>"
      ]
     },
     "metadata": {},
     "output_type": "display_data"
    }
   ],
   "source": [
    "plt.imshow(log_cfm, interpolation='nearest')\n",
    "\n",
    "for i, j in itertools.product(range(log_cfm.shape[0]), range(log_cfm.shape[1])):\n",
    "    plt.text(j, i, log_cfm[i, j],\n",
    "             horizontalalignment=\"center\",\n",
    "             color=\"white\")\n",
    "\n",
    "plt.ylabel('True label (Recall)')\n",
    "plt.xlabel('Predicted label (Precision)')\n",
    "plt.title('Logistic Reg | Confusion Matrix')\n",
    "plt.colorbar();"
   ]
  },
  {
   "cell_type": "code",
   "execution_count": 37,
   "metadata": {},
   "outputs": [
    {
     "name": "stdout",
     "output_type": "stream",
     "text": [
      "Logistic Reg - F1 score: 0.957\n"
     ]
    }
   ],
   "source": [
    "log_f1 = f1_score(y_test, log_y_pred)\n",
    "print(\"Logistic Reg - F1 score: {:.3f}\".format(log_f1))"
   ]
  },
  {
   "cell_type": "markdown",
   "metadata": {},
   "source": [
    "---\n",
    "## Multinomial Bayes \n",
    "### on Training data"
   ]
  },
  {
   "cell_type": "markdown",
   "metadata": {},
   "source": [
    "## `CountVectorizer`"
   ]
  },
  {
   "cell_type": "code",
   "execution_count": 39,
   "metadata": {},
   "outputs": [
    {
     "data": {
      "text/plain": [
       "MultinomialNB(alpha=0.01, class_prior=None, fit_prior=True)"
      ]
     },
     "execution_count": 39,
     "metadata": {},
     "output_type": "execute_result"
    }
   ],
   "source": [
    "mnb = MultinomialNB(alpha=.01)\n",
    "mnb.fit(X_train, y_train)"
   ]
  },
  {
   "cell_type": "code",
   "execution_count": 40,
   "metadata": {},
   "outputs": [],
   "source": [
    "mnb_y_pred = mnb.predict(X_test)"
   ]
  },
  {
   "cell_type": "code",
   "execution_count": 41,
   "metadata": {},
   "outputs": [
    {
     "name": "stdout",
     "output_type": "stream",
     "text": [
      "Accuracy:   0.900\n"
     ]
    }
   ],
   "source": [
    "mnb_score = accuracy_score(y_test, mnb_y_pred)\n",
    "print(\"Accuracy:   {:.3f}\".format(mnb_score))"
   ]
  },
  {
   "cell_type": "code",
   "execution_count": 42,
   "metadata": {},
   "outputs": [
    {
     "name": "stdout",
     "output_type": "stream",
     "text": [
      "Training set score: 0.906\n",
      "Test set score: 0.900\n"
     ]
    }
   ],
   "source": [
    "print(\"Training set score: {:.3f}\".format(mnb.score(X_train, y_train)))\n",
    "print(\"Test set score: {:.3f}\".format(mnb.score(X_test, y_test)))"
   ]
  },
  {
   "cell_type": "code",
   "execution_count": 43,
   "metadata": {},
   "outputs": [
    {
     "name": "stdout",
     "output_type": "stream",
     "text": [
      "Confusion matrix:\n",
      "[[ 14750   5846]\n",
      " [  8383 113135]]\n",
      "\n",
      "---------------\n",
      "[['TN' 'FP']\n",
      " ['FN' 'TP']]\n"
     ]
    }
   ],
   "source": [
    "mnb_cfm = confusion_matrix(y_test, mnb_y_pred)\n",
    "print(\"Confusion matrix:\")\n",
    "print(mnb_cfm, end='\\n\\n')\n",
    "print('-'*15)\n",
    "print(np.array([['TN', 'FP'],[ 'FN' , 'TP']]))"
   ]
  },
  {
   "cell_type": "code",
   "execution_count": 44,
   "metadata": {},
   "outputs": [
    {
     "data": {
      "image/png": "[encoded data removed]",
      "text/plain": [
       "<Figure size 432x288 with 2 Axes>"
      ]
     },
     "metadata": {},
     "output_type": "display_data"
    }
   ],
   "source": [
    "plt.imshow(mnb_cfm, interpolation='nearest')\n",
    "\n",
    "for i, j in itertools.product(range(mnb_cfm.shape[0]), range(mnb_cfm.shape[1])):\n",
    "    plt.text(j, i, mnb_cfm[i, j],\n",
    "             horizontalalignment=\"center\",\n",
    "             color=\"white\")\n",
    "\n",
    "plt.ylabel('True label (Recall)')\n",
    "plt.xlabel('Predicted label (Precision)')\n",
    "plt.title('Multinomial | Confusion Matrix')\n",
    "plt.colorbar();"
   ]
  },
  {
   "cell_type": "code",
   "execution_count": 45,
   "metadata": {},
   "outputs": [
    {
     "name": "stdout",
     "output_type": "stream",
     "text": [
      "Multinomial NB - F1 score: 0.941\n"
     ]
    }
   ],
   "source": [
    "mnb_f1 = f1_score(y_test, mnb_y_pred)\n",
    "print(\"Multinomial NB - F1 score: {:.3f}\".format(mnb_f1))"
   ]
  },
  {
   "cell_type": "markdown",
   "metadata": {},
   "source": [
    "## `TfidfVectorizer`"
   ]
  },
  {
   "cell_type": "code",
   "execution_count": 46,
   "metadata": {},
   "outputs": [
    {
     "name": "stdout",
     "output_type": "stream",
     "text": [
      "X_train:\n",
      "<426340x36651 sparse matrix of type '<class 'numpy.float64'>'\n",
      "\twith 22909919 stored elements in Compressed Sparse Row format>\n"
     ]
    }
   ],
   "source": [
    "# Vectorize X_train\n",
    "mnb_tfidfvectorizer = TfidfVectorizer(min_df=5).fit(x_train)\n",
    "mnb_X_train = mnb_tfidfvectorizer.transform(x_train)\n",
    "print(\"X_train:\\n{}\".format(repr(mnb_X_train)))"
   ]
  },
  {
   "cell_type": "code",
   "execution_count": 47,
   "metadata": {},
   "outputs": [],
   "source": [
    "mnb_X_test = mnb_tfidfvectorizer.transform(x_test)\n",
    "\n",
    "mnb_y_pred = mnb.predict(mnb_X_test)"
   ]
  },
  {
   "cell_type": "code",
   "execution_count": 48,
   "metadata": {},
   "outputs": [
    {
     "name": "stdout",
     "output_type": "stream",
     "text": [
      "Accuracy:   0.884\n"
     ]
    }
   ],
   "source": [
    "mnb_score2 = accuracy_score(y_test, mnb_y_pred)\n",
    "print(\"Accuracy:   {:.3f}\".format(mnb_score2))"
   ]
  },
  {
   "cell_type": "code",
   "execution_count": 49,
   "metadata": {},
   "outputs": [
    {
     "name": "stdout",
     "output_type": "stream",
     "text": [
      "Training set score: 0.889\n",
      "Test set score: 0.884\n"
     ]
    }
   ],
   "source": [
    "print(\"Training set score: {:.3f}\".format(mnb.score(mnb_X_train, y_train)))\n",
    "print(\"Test set score: {:.3f}\".format(mnb.score(mnb_X_test, y_test)))"
   ]
  },
  {
   "cell_type": "code",
   "execution_count": 50,
   "metadata": {},
   "outputs": [
    {
     "name": "stdout",
     "output_type": "stream",
     "text": [
      "Confusion matrix:\n",
      "[[  4641  15955]\n",
      " [   559 120959]]\n",
      "\n",
      "---------------\n",
      "[['TN' 'FP']\n",
      " ['FN' 'TP']]\n"
     ]
    }
   ],
   "source": [
    "mnb_cfm2 = confusion_matrix(y_test, mnb_y_pred)\n",
    "print(\"Confusion matrix:\")\n",
    "print(mnb_cfm2, end='\\n\\n')\n",
    "print('-'*15)\n",
    "print(np.array([['TN', 'FP'],[ 'FN' , 'TP']]))"
   ]
  },
  {
   "cell_type": "code",
   "execution_count": 51,
   "metadata": {},
   "outputs": [
    {
     "data": {
      "image/png": "[encoded data removed]",
      "text/plain": [
       "<Figure size 432x288 with 2 Axes>"
      ]
     },
     "metadata": {},
     "output_type": "display_data"
    }
   ],
   "source": [
    "plt.imshow(mnb_cfm2, interpolation='nearest')\n",
    "\n",
    "for i, j in itertools.product(range(mnb_cfm2.shape[0]), range(mnb_cfm2.shape[1])):\n",
    "    plt.text(j, i, mnb_cfm2[i, j],\n",
    "             horizontalalignment=\"center\",\n",
    "             color=\"white\")\n",
    "\n",
    "plt.ylabel('True label (Recall)')\n",
    "plt.xlabel('Predicted label (Precision)')\n",
    "plt.title('Multinomial | Confusion Matrix')\n",
    "plt.colorbar();"
   ]
  },
  {
   "cell_type": "code",
   "execution_count": 52,
   "metadata": {},
   "outputs": [
    {
     "name": "stdout",
     "output_type": "stream",
     "text": [
      "Multinomial NB - F1 score: 0.936\n"
     ]
    }
   ],
   "source": [
    "mnb2_f1 = f1_score(y_test, mnb_y_pred)\n",
    "print(\"Multinomial NB - F1 score: {:.3f}\".format(mnb2_f1))"
   ]
  },
  {
   "cell_type": "markdown",
   "metadata": {},
   "source": [
    "### Summary:\n",
    "\n",
    "* Logistic with TF wins!\n",
    "\n",
    "* Multinomial NB with Tfidf in second.\n",
    "\n",
    "* Take aways - What could SVM or Random Forest result in? What's going with Logistic Tfidf?"
   ]
  },
  {
   "cell_type": "markdown",
   "metadata": {},
   "source": [
    "---\n",
    "\n",
    "# `Clustering / Topic Modeling (NMF and Lda)`"
   ]
  },
  {
   "cell_type": "markdown",
   "metadata": {},
   "source": [
    "---\n",
    "## Clustering Vectorize:\n",
    "### `CountVectorizer` & `Tf-idf`\n"
   ]
  },
  {
   "cell_type": "markdown",
   "metadata": {},
   "source": [
    "* With NLTK stopwords "
   ]
  },
  {
   "cell_type": "code",
   "execution_count": 53,
   "metadata": {},
   "outputs": [],
   "source": [
    "# Use tf-idf features\n",
    "tfidf_vectorizer = TfidfVectorizer(stop_words=stops)\n",
    "tfidf = tfidf_vectorizer.fit_transform(review_text)\n",
    "\n",
    "# Use tf features\n",
    "tf_vectorizer = CountVectorizer(stop_words=stops)\n",
    "tf = tf_vectorizer.fit_transform(review_text)"
   ]
  },
  {
   "cell_type": "code",
   "execution_count": 54,
   "metadata": {},
   "outputs": [
    {
     "name": "stdout",
     "output_type": "stream",
     "text": [
      "Number of total features: 120107\n"
     ]
    }
   ],
   "source": [
    "tfidf_feature_names = tfidf_vectorizer.get_feature_names()\n",
    "print(\"Number of total features: {}\".format(len(tfidf_feature_names)))"
   ]
  },
  {
   "cell_type": "markdown",
   "metadata": {},
   "source": [
    "---\n",
    "## Build Clustering Models:\n",
    "## `Nonnegative Matrix Factorization (NMF)` \n",
    "### & \n",
    "## `Latent Dirichlet Allocation (Lda)`"
   ]
  },
  {
   "cell_type": "code",
   "execution_count": 55,
   "metadata": {},
   "outputs": [],
   "source": [
    "# Initialize NMF\n",
    "nmf = NMF(n_components=10, random_state=1,\n",
    "          alpha=.1, l1_ratio=.5)\n",
    "\n",
    "# Initialize Ida\n",
    "lda = LatentDirichletAllocation(n_topics=10, max_iter=5,\n",
    "                                learning_method='online',\n",
    "                                learning_offset=50.,\n",
    "                                random_state=0)"
   ]
  },
  {
   "cell_type": "code",
   "execution_count": 59,
   "metadata": {},
   "outputs": [],
   "source": [
    "num_top_words = 15\n",
    "\n",
    "def retrieve_top_words(model, feature_names, num_top_words):\n",
    "    for idx, topic in enumerate(model.components_):\n",
    "        print(\"Topic #{}:\".format(idx), end='\\n')\n",
    "        print(\" \".join([feature_names[i]\n",
    "                        for i in topic.argsort()[:-num_top_words - 1:-1]]), end='\\n\\n')\n",
    "    print()"
   ]
  },
  {
   "cell_type": "markdown",
   "metadata": {},
   "source": [
    "## `Term frequency` [ tf ]\n",
    "\n",
    "## NMF"
   ]
  },
  {
   "cell_type": "code",
   "execution_count": 56,
   "metadata": {},
   "outputs": [],
   "source": [
    "nmf_tf = nmf.fit(tf)"
   ]
  },
  {
   "cell_type": "code",
   "execution_count": 57,
   "metadata": {},
   "outputs": [
    {
     "data": {
      "text/plain": [
       "Counter({0: 73625,\n",
       "         1: 129916,\n",
       "         2: 29354,\n",
       "         3: 41520,\n",
       "         4: 40508,\n",
       "         5: 59624,\n",
       "         6: 17456,\n",
       "         7: 72745,\n",
       "         8: 36418,\n",
       "         9: 67288})"
      ]
     },
     "execution_count": 57,
     "metadata": {},
     "output_type": "execute_result"
    }
   ],
   "source": [
    "nmf_ = nmf_tf.transform(tf)\n",
    "Counter([np.argmax(i) for i in nmf_])"
   ]
  },
  {
   "cell_type": "code",
   "execution_count": 60,
   "metadata": {},
   "outputs": [
    {
     "name": "stdout",
     "output_type": "stream",
     "text": [
      "Topic #0:\n",
      "br fat sugar ingredients per organic magnesium also protein may natural vitamin calories less oil\n",
      "\n",
      "Topic #1:\n",
      "one great would get love flavor time little much use also make even find buy\n",
      "\n",
      "Topic #2:\n",
      "food cat cats eat diet chicken eating dry would day ingredients foods feed wellness feeding\n",
      "\n",
      "Topic #3:\n",
      "tea green teas flavor drink black bags cup stash bag organic drinking iced love leaves\n",
      "\n",
      "Topic #4:\n",
      "coffee cup cups roast strong flavor one pods keurig starbucks blend bold drink pod brew\n",
      "\n",
      "Topic #5:\n",
      "product amazon com www http gp href pack ounce price 12 use products order cans\n",
      "\n",
      "Topic #6:\n",
      "water drink taste bottle drinking bottled ph essentia coconut use add make alkaline also tap\n",
      "\n",
      "Topic #7:\n",
      "like taste flavor really tastes sugar sweet chocolate try much would tried think drink flavors\n",
      "\n",
      "Topic #8:\n",
      "dog dogs treats treat food loves get bag give small would one time love chew\n",
      "\n",
      "Topic #9:\n",
      "good taste really price pretty flavor better tastes quality sugar healthy snack well chips protein\n",
      "\n",
      "\n"
     ]
    }
   ],
   "source": [
    "retrieve_top_words(nmf_tf, tfidf_feature_names, num_top_words)"
   ]
  },
  {
   "cell_type": "markdown",
   "metadata": {},
   "source": [
    "## Lda"
   ]
  },
  {
   "cell_type": "code",
   "execution_count": 61,
   "metadata": {},
   "outputs": [
    {
     "name": "stderr",
     "output_type": "stream",
     "text": [
      "/home/varuni/anaconda3/envs/mlearn/lib/python3.6/site-packages/sklearn/decomposition/online_lda.py:294: DeprecationWarning: n_topics has been renamed to n_components in version 0.19 and will be removed in 0.21\n",
      "  DeprecationWarning)\n"
     ]
    },
    {
     "ename": "KeyboardInterrupt",
     "evalue": "",
     "output_type": "error",
     "traceback": [
      "\u001b[0;31m---------------------------------------------------------------------------\u001b[0m",
      "\u001b[0;31mKeyboardInterrupt\u001b[0m                         Traceback (most recent call last)",
      "\u001b[0;32m<ipython-input-61-5f1ba0033412>\u001b[0m in \u001b[0;36m<module>\u001b[0;34m()\u001b[0m\n\u001b[0;32m----> 1\u001b[0;31m \u001b[0mlda_tf\u001b[0m \u001b[0;34m=\u001b[0m \u001b[0mlda\u001b[0m\u001b[0;34m.\u001b[0m\u001b[0mfit\u001b[0m\u001b[0;34m(\u001b[0m\u001b[0mtf\u001b[0m\u001b[0;34m)\u001b[0m\u001b[0;34m\u001b[0m\u001b[0m\n\u001b[0m",
      "\u001b[0;32m~/anaconda3/envs/mlearn/lib/python3.6/site-packages/sklearn/decomposition/online_lda.py\u001b[0m in \u001b[0;36mfit\u001b[0;34m(self, X, y)\u001b[0m\n\u001b[1;32m    550\u001b[0m                     \u001b[0;32mfor\u001b[0m \u001b[0midx_slice\u001b[0m \u001b[0;32min\u001b[0m \u001b[0mgen_batches\u001b[0m\u001b[0;34m(\u001b[0m\u001b[0mn_samples\u001b[0m\u001b[0;34m,\u001b[0m \u001b[0mbatch_size\u001b[0m\u001b[0;34m)\u001b[0m\u001b[0;34m:\u001b[0m\u001b[0;34m\u001b[0m\u001b[0m\n\u001b[1;32m    551\u001b[0m                         self._em_step(X[idx_slice, :], total_samples=n_samples,\n\u001b[0;32m--> 552\u001b[0;31m                                       batch_update=False, parallel=parallel)\n\u001b[0m\u001b[1;32m    553\u001b[0m                 \u001b[0;32melse\u001b[0m\u001b[0;34m:\u001b[0m\u001b[0;34m\u001b[0m\u001b[0m\n\u001b[1;32m    554\u001b[0m                     \u001b[0;31m# batch update\u001b[0m\u001b[0;34m\u001b[0m\u001b[0;34m\u001b[0m\u001b[0m\n",
      "\u001b[0;32m~/anaconda3/envs/mlearn/lib/python3.6/site-packages/sklearn/decomposition/online_lda.py\u001b[0m in \u001b[0;36m_em_step\u001b[0;34m(self, X, total_samples, batch_update, parallel)\u001b[0m\n\u001b[1;32m    448\u001b[0m         \u001b[0;31m# update `component_` related variables\u001b[0m\u001b[0;34m\u001b[0m\u001b[0;34m\u001b[0m\u001b[0m\n\u001b[1;32m    449\u001b[0m         self.exp_dirichlet_component_ = np.exp(\n\u001b[0;32m--> 450\u001b[0;31m             _dirichlet_expectation_2d(self.components_))\n\u001b[0m\u001b[1;32m    451\u001b[0m         \u001b[0mself\u001b[0m\u001b[0;34m.\u001b[0m\u001b[0mn_batch_iter_\u001b[0m \u001b[0;34m+=\u001b[0m \u001b[0;36m1\u001b[0m\u001b[0;34m\u001b[0m\u001b[0m\n\u001b[1;32m    452\u001b[0m         \u001b[0;32mreturn\u001b[0m\u001b[0;34m\u001b[0m\u001b[0m\n",
      "\u001b[0;31mKeyboardInterrupt\u001b[0m: "
     ]
    }
   ],
   "source": [
    "lda_tf = lda.fit(tf)"
   ]
  },
  {
   "cell_type": "code",
   "execution_count": 145,
   "metadata": {},
   "outputs": [
    {
     "data": {
      "text/plain": [
       "Counter({0: 113757,\n",
       "         1: 30429,\n",
       "         2: 38344,\n",
       "         3: 38588,\n",
       "         4: 29083,\n",
       "         5: 869,\n",
       "         6: 24005,\n",
       "         7: 2616,\n",
       "         8: 10653,\n",
       "         9: 7993})"
      ]
     },
     "execution_count": 145,
     "metadata": {},
     "output_type": "execute_result"
    }
   ],
   "source": [
    "lda_ = lda_tf.transform(tfut)\n",
    "Counter([np.argmax(i) for i in lda_])"
   ]
  },
  {
   "cell_type": "code",
   "execution_count": 146,
   "metadata": {},
   "outputs": [
    {
     "name": "stdout",
     "output_type": "stream",
     "text": [
      "Topic #0:\n",
      "use one like well would get great really also time need much keep little good\n",
      "\n",
      "Topic #1:\n",
      "bike easy side front mount use tool ride one fit rack back lock screw rear\n",
      "\n",
      "Topic #2:\n",
      "like one would plastic good get looks time better much thing watch really first little\n",
      "\n",
      "Topic #3:\n",
      "great good price well quality 34 product would made buy recommend works one fit like\n",
      "\n",
      "Topic #4:\n",
      "knife blade handle steel sharp one knives sheath like good edge great well pocket use\n",
      "\n",
      "Topic #5:\n",
      "light battery bright batteries laser installed green rain power red pedometer lantern computer data charger\n",
      "\n",
      "Topic #6:\n",
      "gun scope sight rifle range holster ar shooting pistol rail rounds sights 22 stock use\n",
      "\n",
      "Topic #7:\n",
      "bag pack small carry pocket gear pockets phone side camping inside bags velcro fire stuff\n",
      "\n",
      "Topic #8:\n",
      "ball one color old set tent minutes got fun back stand kids year 25 34\n",
      "\n",
      "Topic #9:\n",
      "water bottle clean use stove cleaning kit bottles hot pot cup lid used cap drink\n",
      "\n",
      "\n"
     ]
    }
   ],
   "source": [
    "retrieve_top_words(lda_tf, tfidf_feature_names, num_top_words)"
   ]
  },
  {
   "cell_type": "markdown",
   "metadata": {},
   "source": [
    "### ..........<  `Lda / tf Topics`  >..........\n",
    "    Topic #0:\n",
    "    use one like well would get great really also time need much keep little good\n",
    "    \n",
    "**[ -- Positive Feedback -- ]**\n",
    "\n",
    "    Topic #1:\n",
    "    bike easy side front mount use tool ride one fit rack back lock screw rear\n",
    "    \n",
    "**[ Biking ]**\n",
    "\n",
    "    Topic #2:\n",
    "    like one would plastic good get looks time better much thing watch really first little\n",
    "    \n",
    "**[ ??? ]**\n",
    "\n",
    "    Topic #3:\n",
    "    great good price well quality 34 product would made buy recommend works one fit like\n",
    "    \n",
    "**[ -- Positive Feedback ]**\n",
    "\n",
    "    Topic #4:\n",
    "    knife blade handle steel sharp one knives sheath like good edge great well pocket use\n",
    "    \n",
    "**[ Knives and accessories ]**\n",
    "\n",
    "    Topic #5:\n",
    "    light battery bright batteries laser installed green rain power red pedometer lantern computer data charger\n",
    "    \n",
    "**[ Outdoor Electronics ]**\n",
    "\n",
    "    Topic #6:\n",
    "    gun scope sight rifle range holster ar shooting pistol rail rounds sights 22 stock use\n",
    "    \n",
    "**[ Shooting ]**\n",
    "\n",
    "    Topic #7:\n",
    "    bag pack small carry pocket gear pockets phone side camping inside bags velcro fire stuff\n",
    "    \n",
    "**[ Backpacking ]**\n",
    "\n",
    "    Topic #8:\n",
    "    ball one color old set tent minutes got fun back stand kids year 25 34\n",
    "    \n",
    "**[ ??? ]**\n",
    "\n",
    "    Topic #9:\n",
    "    water bottle clean use stove cleaning kit bottles hot pot cup lid used cap drink\n",
    "    \n",
    "**[ Water bottle/Cooking ]**"
   ]
  },
  {
   "cell_type": "markdown",
   "metadata": {},
   "source": [
    "## `Term frequency-inverse document frequency` [ tfidf ]\n",
    "\n",
    "## NMF"
   ]
  },
  {
   "cell_type": "code",
   "execution_count": 104,
   "metadata": {},
   "outputs": [],
   "source": [
    "nmf_tfidf = nmf.fit(tfidf)"
   ]
  },
  {
   "cell_type": "code",
   "execution_count": 105,
   "metadata": {},
   "outputs": [
    {
     "data": {
      "text/plain": [
       "Counter({0: 109098,\n",
       "         1: 21925,\n",
       "         2: 26765,\n",
       "         3: 22902,\n",
       "         4: 24061,\n",
       "         5: 23085,\n",
       "         6: 11945,\n",
       "         7: 14761,\n",
       "         8: 28261,\n",
       "         9: 13534})"
      ]
     },
     "execution_count": 105,
     "metadata": {},
     "output_type": "execute_result"
    }
   ],
   "source": [
    "nmf_W = nmf_tfidf.transform(tfidf)\n",
    "Counter([np.argmax(i) for i in nmf_W])"
   ]
  },
  {
   "cell_type": "code",
   "execution_count": 106,
   "metadata": {},
   "outputs": [
    {
     "name": "stdout",
     "output_type": "stream",
     "text": [
      "Topic #0:\n",
      "one like use get would time little really much used better need work bought also\n",
      "\n",
      "Topic #1:\n",
      "knife blade sharp sheath knives handle edge steel pocket carry hand open clip box edc\n",
      "\n",
      "Topic #2:\n",
      "great works product price easy recommend buy love looks use highly work item would install\n",
      "\n",
      "Topic #3:\n",
      "scope sight rifle mount dot sights rail 22 red rings gun ar zero range mounted\n",
      "\n",
      "Topic #4:\n",
      "bike light bright easy rack road seat ride riding bikes mount lights install tire mountain\n",
      "\n",
      "Topic #5:\n",
      "good quality price product buy nice looks pretty would value recommend high seems money job\n",
      "\n",
      "Topic #6:\n",
      "34 size fit waist large belt length case barrel medium shorts tactical ordered fits small\n",
      "\n",
      "Topic #7:\n",
      "bag pack carry sleeping small bags range room bug pockets straps kit gear stuff strap\n",
      "\n",
      "Topic #8:\n",
      "well made fit holster works fits belt nice holds perfectly work seems built gun comfortable\n",
      "\n",
      "Topic #9:\n",
      "water bottle bottles drink filter cold cap ice nalgene cage cup drinking clean taste mouth\n",
      "\n",
      "\n"
     ]
    }
   ],
   "source": [
    "retrieve_top_words(nmf_tfidf, tfidf_feature_names, num_top_words)"
   ]
  },
  {
   "cell_type": "markdown",
   "metadata": {},
   "source": [
    "### ..........<  `NMF / tfidf Topics`  >..........\n",
    "\n",
    "    Topic #0:\n",
    "    one like use get would time little really much used better need work bought also\n",
    "    \n",
    "**[ -- Positive Feedback -- ]**\n",
    "\n",
    "    Topic #1:\n",
    "    knife blade sharp sheath knives handle edge steel pocket carry hand open clip box edc\n",
    "    \n",
    "**[ Knives and accessories ]**\n",
    "\n",
    "    Topic #2:\n",
    "    great works product price easy recommend buy love looks use highly work item would install\n",
    "    \n",
    "**[ -- Positive Feedback -- ]**\n",
    "\n",
    "    Topic #3:\n",
    "    scope sight rifle mount dot sights rail 22 red rings gun ar zero range mounted\n",
    "    \n",
    "**[ Rifle scopes/mounting ]**\n",
    "\n",
    "    Topic #4:\n",
    "    bike light bright easy rack road seat ride riding bikes mount lights install tire mountain\n",
    "    \n",
    "**[ Biking ]**\n",
    "\n",
    "    Topic #5:\n",
    "    good quality price product buy nice looks pretty would value recommend high seems money job\n",
    "    \n",
    "**[ -- Postive Feedback -- ]**\n",
    "\n",
    "    Topic #6:\n",
    "    34 size fit waist large belt length case barrel medium shorts tactical ordered fits small\n",
    "    \n",
    "**[ Shooting accessories ]**\n",
    "\n",
    "    Topic #7:\n",
    "    bag pack carry sleeping small bags range room bug pockets straps kit gear stuff strap\n",
    "    \n",
    "**[ Backpacking ]**\n",
    "\n",
    "    Topic #8:\n",
    "    well made fit holster works fits belt nice holds perfectly work seems built gun comfortable\n",
    "    \n",
    "**[ Pistol holster(s) ]**\n",
    "\n",
    "    Topic #9:\n",
    "    water bottle bottles drink filter cold cap ice nalgene cage cup drinking clean taste mouth\n",
    "    \n",
    "**[ Water Bottles ( Nalgene ) ]**"
   ]
  },
  {
   "cell_type": "markdown",
   "metadata": {},
   "source": [
    "## Lda"
   ]
  },
  {
   "cell_type": "code",
   "execution_count": 108,
   "metadata": {
    "collapsed": true
   },
   "outputs": [],
   "source": [
    "lda_tfidf = lda.fit(tfidf)"
   ]
  },
  {
   "cell_type": "code",
   "execution_count": 109,
   "metadata": {},
   "outputs": [
    {
     "data": {
      "text/plain": [
       "Counter({0: 295709,\n",
       "         1: 48,\n",
       "         2: 48,\n",
       "         3: 26,\n",
       "         4: 30,\n",
       "         5: 232,\n",
       "         6: 119,\n",
       "         7: 33,\n",
       "         8: 46,\n",
       "         9: 46})"
      ]
     },
     "execution_count": 109,
     "metadata": {},
     "output_type": "execute_result"
    }
   ],
   "source": [
    "lda_W = lda_tfidf.transform(tfidf)\n",
    "Counter([np.argmax(i) for i in lda_W])"
   ]
  },
  {
   "cell_type": "code",
   "execution_count": 110,
   "metadata": {},
   "outputs": [
    {
     "name": "stdout",
     "output_type": "stream",
     "text": [
      "Topic #0:\n",
      "great good well one like use would knife get easy price product works light little\n",
      "\n",
      "Topic #1:\n",
      "strobe drills lasers darts 556 speedsafe ghost p15 finder p22 prob 1800 kicked th madden\n",
      "\n",
      "Topic #2:\n",
      "tomahawk hydro 8221 laserlyte tipton component golfing reloader blah jaw 8220 triathlon mp5 gather romanian\n",
      "\n",
      "Topic #3:\n",
      "stud uncle plugged emailed messenger tcp agility mike quickster snakes 62x54r spanner motorists technically trophy\n",
      "\n",
      "Topic #4:\n",
      "dpms golfer 8230 readings retaining wireless apps samsung tablet industries callaway tek swords cuff evaluation\n",
      "\n",
      "Topic #5:\n",
      "water bottle stove pot bottles filter cup fuel lid canteen coffee hot taste cooking mouth\n",
      "\n",
      "Topic #6:\n",
      "levers witness cygolite monkey rcbs pt trx pi ti crossbows 9658 mma headphone silky ons\n",
      "\n",
      "Topic #7:\n",
      "nikon carabiner lil tights bdc turrets acog cree blurry freewheel sightmark boresighter leapers prescription rips\n",
      "\n",
      "Topic #8:\n",
      "clubs bivy strands froglube insanity http www sr carabiners ref bcm gp sunday stacker organizing\n",
      "\n",
      "Topic #9:\n",
      "invicta wahoo golfers hoodie buttpad shades pachmayr mako headbands cop baseballs koozie setups void benelli\n",
      "\n",
      "\n"
     ]
    }
   ],
   "source": [
    "retrieve_top_words(lda_tfidf, tfidf_feature_names, num_top_words)"
   ]
  },
  {
   "cell_type": "markdown",
   "metadata": {},
   "source": [
    "### ..........<  `Lda / tfidf Topics`  >..........\n",
    "\n",
    "    Topic #0:\n",
    "    great good well one like use would knife get easy price product works light little\n",
    "    \n",
    "** [ -- Positive Feedback .. Knife? -- ] **\n",
    "\n",
    "    Topic #1:\n",
    "    strobe drills lasers darts 556 speedsafe ghost p15 finder p22 prob 1800 kicked th madden\n",
    "    \n",
    "** [ Madden (Shoes) ] **\n",
    "\n",
    "    Topic #2:\n",
    "    tomahawk hydro 8221 laserlyte tipton component golfing reloader blah jaw 8220 triathlon mp5 gather romanian\n",
    "    \n",
    "** [ Tipton (Rifle cleaning kit) ] **\n",
    "\n",
    "    Topic #3:\n",
    "    stud uncle plugged emailed messenger tcp agility mike quickster snakes 62x54r spanner motorists technically trophy\n",
    "    \n",
    "** [ ??? ] **\n",
    "\n",
    "    Topic #4:\n",
    "    dpms golfer 8230 readings retaining wireless apps samsung tablet industries callaway tek swords cuff evaluation\n",
    "    \n",
    "** [ Samsumg, tablet, wireless, apps ] **\n",
    "\n",
    "    Topic #5:\n",
    "    water bottle stove pot bottles filter cup fuel lid canteen coffee hot taste cooking mouth\n",
    "    \n",
    "** [ _Camping_ ] **\n",
    "\n",
    "    Topic #6:\n",
    "    levers witness cygolite monkey rcbs pt trx pi ti crossbows 9658 mma headphone silky ons\n",
    "    \n",
    "** [ Cygolite (headlamp) ] **\n",
    "\n",
    "    Topic #7:\n",
    "    nikon carabiner lil tights bdc turrets acog cree blurry freewheel sightmark boresighter leapers prescription rips\n",
    "    \n",
    "** [ Nikon (scopes/cameras) ] **\n",
    "\n",
    "    Topic #8:\n",
    "    clubs bivy strands froglube insanity http www sr carabiners ref bcm gp sunday stacker organizing\n",
    "    \n",
    "** [ bivy (sleepingbag-tents) ] **\n",
    "\n",
    "    Topic #9:\n",
    "    invicta wahoo golfers hoodie buttpad shades pachmayr mako headbands cop baseballs koozie setups void benelli\n",
    "    \n",
    "** [ Invicta (watch), Pachmayr (handgun grips), Mako (fishing), Benelli (Rifle) ] **"
   ]
  },
  {
   "cell_type": "markdown",
   "metadata": {},
   "source": [
    "### Summary:\n",
    "\n",
    "* Both **NMF and Lda with tf** were about the same and just ok.\n",
    "\n",
    "\n",
    "* **NMF with tfidf** was the best - with no obsure topics and even correctly associated a topic with a Brand (Nalgene)\n",
    "\n",
    "\n",
    "* **Lda with tfidf** was primarily a unassociated words\n",
    "        However - it did return the most specific and unique words out of them all (i.e. brand news)"
   ]
  },
  {
   "cell_type": "markdown",
   "metadata": {},
   "source": [
    "---\n",
    "# $$NEXT\\ STEPs$$\n",
    "\n",
    "### Model Tweaking or Fix:\n",
    "* Effectively handle Imbalance\n",
    "* Figure out what happened with `TfidfVectorizer` with Pipeline through `GridSearchCV`\n",
    "* Random Forest:"
   ]
  },
  {
   "cell_type": "markdown",
   "metadata": {},
   "source": [
    "---\n",
    "### Random Forest\n",
    ">### [ `X` ] _tfidf-vectorized reviews_\n",
    "\n",
    ">### [ `y` ] _Overall scores_"
   ]
  },
  {
   "cell_type": "code",
   "execution_count": null,
   "metadata": {
    "collapsed": true
   },
   "outputs": [],
   "source": [
    "# Random Forest on tfidf_vectorized (X) ; overall scores (y)\n",
    "\n",
    "# Accuracy scores\n",
    "# Confusion matrix\n",
    "# F1 score"
   ]
  },
  {
   "cell_type": "markdown",
   "metadata": {},
   "source": [
    "### Further Application/Productization:\n",
    "* `Recommendation Engine: Collaborative filtering & Factorization Machine`\n",
    "* Scraping `REI` and/or other sports ecommerce sites in order to build a better, more robust `Recommendation Engine` for Sports and Outdoors products -- to reach the goal of a **Recommendation Engine Chatbot for Sports and Outdoors Products** (for say Facebook or Slack)"
   ]
  },
  {
   "cell_type": "markdown",
   "metadata": {},
   "source": [
    "#      $$Questions?  $$  "
   ]
  }
 ],
 "metadata": {
  "anaconda-cloud": {},
  "kernelspec": {
   "display_name": "Python 3",
   "language": "python",
   "name": "python3"
  },
  "language_info": {
   "codemirror_mode": {
    "name": "ipython",
    "version": 3
   },
   "file_extension": ".py",
   "mimetype": "text/x-python",
   "name": "python",
   "nbconvert_exporter": "python",
   "pygments_lexer": "ipython3",
   "version": "3.6.4"
  }
 },
 "nbformat": 4,
 "nbformat_minor": 1
}
